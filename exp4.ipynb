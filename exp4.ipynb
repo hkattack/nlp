{
 "cells": [
  {
   "cell_type": "code",
   "execution_count": 1,
   "id": "d815eefc",
   "metadata": {},
   "outputs": [
    {
     "name": "stdout",
     "output_type": "stream",
     "text": [
      "Enter the string: Natural-Language processing(NLP) is an area of computer science and artificial intelligence\n",
      "Enter the value of n: 2\n",
      "('Natural-Language', 'processing(NLP)')\n",
      "('processing(NLP)', 'is')\n",
      "('is', 'an')\n",
      "('an', 'area')\n",
      "('area', 'of')\n",
      "('of', 'computer')\n",
      "('computer', 'science')\n",
      "('science', 'and')\n",
      "('and', 'artificial')\n",
      "('artificial', 'intelligence')\n"
     ]
    }
   ],
   "source": [
    "#using nltk\n",
    "from nltk import ngrams\n",
    "sentence=input(\"Enter the string: \")\n",
    "n=int(input(\"Enter the value of n: \"))\n",
    "n_grams=ngrams(sentence.split(),n)\n",
    "for grams in n_grams:\n",
    "    print(grams)\n"
   ]
  },
  {
   "cell_type": "code",
   "execution_count": 2,
   "id": "002b426f",
   "metadata": {},
   "outputs": [],
   "source": [
    "s= \"\"\"\n",
    "Natural-Language processing(NLP) is an area of computer science and artificial intelligence\n",
    "\"\"\""
   ]
  },
  {
   "cell_type": "code",
   "execution_count": 3,
   "id": "23a19a68",
   "metadata": {},
   "outputs": [],
   "source": [
    "import re\n",
    "def generated_ngrams(s,n):\n",
    "    s=s.lower()\n",
    "    s=re.sub(r'[^a-zA-Z0-9\\s]',' ',s)\n",
    "    tokens=[token for token in s.split(\" \")if token !=\"\"]\n",
    "    ngrams=zip(*(tokens[i:]for i in range(n)))\n",
    "    return [\" \".join(ngram)for ngram in ngrams]"
   ]
  },
  {
   "cell_type": "code",
   "execution_count": 4,
   "id": "8867a672",
   "metadata": {},
   "outputs": [
    {
     "data": {
      "text/plain": [
       "['\\nnatural language processing nlp is',\n",
       " 'language processing nlp is an',\n",
       " 'processing nlp is an area',\n",
       " 'nlp is an area of',\n",
       " 'is an area of computer',\n",
       " 'an area of computer science',\n",
       " 'area of computer science and',\n",
       " 'of computer science and artificial',\n",
       " 'computer science and artificial intelligence\\n']"
      ]
     },
     "execution_count": 4,
     "metadata": {},
     "output_type": "execute_result"
    }
   ],
   "source": [
    "generated_ngrams(s,n=5)"
   ]
  },
  {
   "cell_type": "markdown",
   "id": "a33233ab",
   "metadata": {},
   "source": [
    "In natural language processing (NLP), an n-gram is a contiguous sequence of n items from a given sample of text. The items can be characters, words, or even larger units like phrases or sentences. N-grams are used to capture the local context and sequential information within a text.\n",
    "\n",
    "Here are the types of n-grams commonly used in NLP:\n",
    "\n",
    "1. Unigrams (1-grams):\n",
    "Unigrams are single items, typically words, in a text. Each word in a sentence can be considered a unigram. For example, in the sentence \"The cat is on the mat,\" the unigrams would be [\"The\", \"cat\", \"is\", \"on\", \"the\", \"mat\"].\n",
    "\n",
    "2. Bigrams (2-grams):\n",
    "Bigrams consist of two consecutive items, often words, in a text. They capture the local context and can provide information about word associations. For example, in the same sentence \"The cat is on the mat,\" the bigrams would be [\"The cat\", \"cat is\", \"is on\", \"on the\", \"the mat\"].\n",
    "\n",
    "3. Trigrams (3-grams):\n",
    "Trigrams are three consecutive items, usually words, in a text. They provide more contextual information than bigrams. For example, in the sentence \"The cat is on the mat,\" the trigrams would be [\"The cat is\", \"cat is on\", \"is on the\", \"on the mat\"].\n",
    "\n",
    "4. N-grams (n > 3):\n",
    "N-grams with n greater than 3 are referred to as higher-order n-grams. They capture longer sequences of items in a text, providing more context and potentially capturing complex patterns. For example, if we consider 4-grams in the sentence \"The cat is on the mat,\" we would have [\"The cat is on\", \"cat is on the\", \"is on the mat\"].\n",
    "\n",
    "N-grams are widely used in various NLP tasks, such as language modeling, machine translation, text generation, and information retrieval. They can provide insights into word associations, help in predicting the next word in a sentence, and assist in capturing the syntactic and semantic relationships within a text."
   ]
  }
 ],
 "metadata": {
  "kernelspec": {
   "display_name": "Python 3",
   "language": "python",
   "name": "python3"
  },
  "language_info": {
   "codemirror_mode": {
    "name": "ipython",
    "version": 3
   },
   "file_extension": ".py",
   "mimetype": "text/x-python",
   "name": "python",
   "nbconvert_exporter": "python",
   "pygments_lexer": "ipython3",
   "version": "3.8.8"
  }
 },
 "nbformat": 4,
 "nbformat_minor": 5
}
