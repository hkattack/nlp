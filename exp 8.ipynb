{
 "cells": [
  {
   "cell_type": "code",
   "execution_count": 3,
   "id": "ced5a603",
   "metadata": {},
   "outputs": [
    {
     "name": "stderr",
     "output_type": "stream",
     "text": [
      "[nltk_data] Downloading package averaged_perceptron_tagger to\n",
      "[nltk_data]     C:\\Users\\Kunal Chawla\\AppData\\Roaming\\nltk_data...\n",
      "[nltk_data]   Unzipping taggers\\averaged_perceptron_tagger.zip.\n"
     ]
    },
    {
     "data": {
      "text/plain": [
       "True"
      ]
     },
     "execution_count": 3,
     "metadata": {},
     "output_type": "execute_result"
    }
   ],
   "source": [
    "import nltk\n",
    "nltk.download('averaged_perceptron_tagger')"
   ]
  },
  {
   "cell_type": "code",
   "execution_count": 5,
   "id": "195f51a0",
   "metadata": {},
   "outputs": [
    {
     "name": "stdout",
     "output_type": "stream",
     "text": [
      "Enter a sentence: \"The quick brown fox jumps over the lazy dog. John Smith works at ABC Corporation. Today is a beautiful day!\"\n",
      "Select the POS tagger:\n",
      "1. TextBlob\n",
      "2. spaCy\n",
      "3. NLTK\n",
      "Enter your choice (1, 2, or 3): 3\n",
      "POS Tags:\n",
      "``: ``\n",
      "The: DT\n",
      "quick: JJ\n",
      "brown: NN\n",
      "fox: NN\n",
      "jumps: VBZ\n",
      "over: IN\n",
      "the: DT\n",
      "lazy: JJ\n",
      "dog: NN\n",
      ".: .\n",
      "John: NNP\n",
      "Smith: NNP\n",
      "works: VBZ\n",
      "at: IN\n",
      "ABC: NNP\n",
      "Corporation: NNP\n",
      ".: .\n",
      "Today: NN\n",
      "is: VBZ\n",
      "a: DT\n",
      "beautiful: JJ\n",
      "day: NN\n",
      "!: .\n",
      "'': ''\n"
     ]
    }
   ],
   "source": [
    "import nltk\n",
    "import spacy\n",
    "from textblob import TextBlob\n",
    "\n",
    "# Function to apply TextBlob POS tagging\n",
    "def apply_textblob(text):\n",
    "    blob = TextBlob(text)\n",
    "    return blob.tags\n",
    "\n",
    "# Function to apply spaCy POS tagging\n",
    "def apply_spacy(text):\n",
    "    nlp = spacy.load('en_core_web_sm')\n",
    "    doc = nlp(text)\n",
    "    return [(token.text, token.pos_) for token in doc]\n",
    "\n",
    "# Function to apply NLTK POS tagging\n",
    "def apply_nltk(text):\n",
    "    tokens = nltk.word_tokenize(text)\n",
    "    return nltk.pos_tag(tokens)\n",
    "\n",
    "# Main program\n",
    "user_input = input(\"Enter a sentence: \")\n",
    "\n",
    "print(\"Select the POS tagger:\")\n",
    "print(\"1. TextBlob\")\n",
    "print(\"2. spaCy\")\n",
    "print(\"3. NLTK\")\n",
    "\n",
    "choice = input(\"Enter your choice (1, 2, or 3): \")\n",
    "\n",
    "if choice == \"1\":\n",
    "    tags = apply_textblob(user_input)\n",
    "elif choice == \"2\":\n",
    "    tags = apply_spacy(user_input)\n",
    "elif choice == \"3\":\n",
    "    tags = apply_nltk(user_input)\n",
    "else:\n",
    "    print(\"Invalid choice!\")\n",
    "    exit()\n",
    "\n",
    "print(\"POS Tags:\")\n",
    "for token, tag in tags:\n",
    "    print(f\"{token}: {tag}\")\n"
   ]
  },
  {
   "cell_type": "markdown",
   "id": "0d603814",
   "metadata": {},
   "source": [
    "- **spaCy**: spaCy is an open-source library for natural language processing (NLP) in Python. It provides efficient and fast processing of natural language text, including tokenization, part-of-speech tagging, named entity recognition, syntactic parsing, and more. spaCy is known for its performance and accuracy and is widely used in various NLP applications.\n",
    "\n",
    "- **TextBlob**: TextBlob is a Python library built on top of NLTK (Natural Language Toolkit) and provides a simplified API for common NLP tasks. It offers functionalities such as part-of-speech tagging, noun phrase extraction, sentiment analysis, translation, and more. TextBlob aims to make NLP tasks accessible to beginners by providing an easy-to-use and intuitive interface.\n",
    "\n",
    "- **NLTK (Natural Language Toolkit)**: NLTK is a popular open-source library for NLP in Python. It provides a comprehensive suite of libraries and programs for tasks like tokenization, stemming, part-of-speech tagging, syntactic parsing, semantic reasoning, and much more. NLTK offers a wide range of corpora, lexicons, and models that can be used for training and evaluating various NLP models. It is widely used for research and education in the field of NLP.\n",
    "\n",
    "- **Tagger**: A tagger is a component or algorithm used in NLP to assign linguistic annotations or tags to words in a given text. The tags represent the grammatical or semantic information associated with each word. For example, part-of-speech (POS) taggers assign tags indicating the category or role of each word in a sentence (e.g., noun, verb, adjective). Taggers are trained on labeled datasets to learn patterns and make predictions about the tags for unseen text. They play a crucial role in many NLP tasks, such as information extraction, text classification, and machine translation."
   ]
  }
 ],
 "metadata": {
  "kernelspec": {
   "display_name": "Python 3",
   "language": "python",
   "name": "python3"
  },
  "language_info": {
   "codemirror_mode": {
    "name": "ipython",
    "version": 3
   },
   "file_extension": ".py",
   "mimetype": "text/x-python",
   "name": "python",
   "nbconvert_exporter": "python",
   "pygments_lexer": "ipython3",
   "version": "3.8.8"
  }
 },
 "nbformat": 4,
 "nbformat_minor": 5
}
