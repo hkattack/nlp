{
 "cells": [
  {
   "cell_type": "code",
   "execution_count": 1,
   "id": "96695afa",
   "metadata": {},
   "outputs": [
    {
     "name": "stdout",
     "output_type": "stream",
     "text": [
      "Enter a sentence: \"The big brown dog chased the squirrel in the park.\"\n"
     ]
    }
   ],
   "source": [
    "import nltk\n",
    "\n",
    "# Function to implement chunking and generate a parse tree\n",
    "def apply_chunking(text):\n",
    "    # Define the grammar for chunking\n",
    "    grammar = r\"\"\"\n",
    "    NP: {<DT|JJ|NN.*>+}    # Chunk sequences of DT, JJ, NN\n",
    "    PP: {<IN><NP>}         # Chunk prepositions followed by NP\n",
    "    VP: {<VB.*><NP|PP>}    # Chunk verbs followed by NP or PP\n",
    "    \"\"\"\n",
    "\n",
    "    # Create a parser based on the grammar\n",
    "    parser = nltk.RegexpParser(grammar)\n",
    "\n",
    "    # Tokenize the input text\n",
    "    tokens = nltk.word_tokenize(text)\n",
    "\n",
    "    # Perform part-of-speech tagging\n",
    "    pos_tags = nltk.pos_tag(tokens)\n",
    "\n",
    "    # Apply chunking and generate the parse tree\n",
    "    parse_tree = parser.parse(pos_tags)\n",
    "\n",
    "    # Draw the parse tree\n",
    "    parse_tree.draw()\n",
    "\n",
    "# Main program\n",
    "user_input = input(\"Enter a sentence: \")\n",
    "apply_chunking(user_input)\n"
   ]
  },
  {
   "cell_type": "markdown",
   "id": "29e73da8",
   "metadata": {},
   "source": [
    "In natural language processing (NLP), chunking and parse trees are techniques used to analyze the grammatical structure of sentences.\n",
    "\n",
    "**Chunking**: Chunking, also known as shallow parsing, is the process of grouping words together into \"chunks\" based on their part-of-speech (POS) tags. Chunking aims to identify meaningful phrases or syntactic units within a sentence, such as noun phrases (NP), verb phrases (VP), prepositional phrases (PP), etc. The resulting chunks represent higher-level structures that provide insights into the syntactic and semantic relationships between words in a sentence. Chunking is often performed using regular expressions or rule-based approaches.\n",
    "\n",
    "**Parse Tree**: A parse tree, also known as a syntactic tree or a constituency tree, is a hierarchical representation of the syntactic structure of a sentence according to a formal grammar. It illustrates the relationship between words in a sentence and their constituent phrases. The parse tree consists of nodes, representing words or phrases, and labeled edges, indicating the grammatical relationships between them. The root of the tree represents the entire sentence, while the leaves correspond to individual words. Parse trees can be used to analyze the grammatical correctness of sentences, identify the roles of different constituents, and facilitate various NLP tasks, such as information extraction, semantic analysis, and machine translation.\n",
    "\n",
    "Both chunking and parse trees play important roles in understanding the structure and meaning of sentences in natural language processing and computational linguistics. They provide valuable insights into the syntactic relationships and hierarchical organization of linguistic elements within a sentence."
   ]
  }
 ],
 "metadata": {
  "kernelspec": {
   "display_name": "Python 3",
   "language": "python",
   "name": "python3"
  },
  "language_info": {
   "codemirror_mode": {
    "name": "ipython",
    "version": 3
   },
   "file_extension": ".py",
   "mimetype": "text/x-python",
   "name": "python",
   "nbconvert_exporter": "python",
   "pygments_lexer": "ipython3",
   "version": "3.8.8"
  }
 },
 "nbformat": 4,
 "nbformat_minor": 5
}
